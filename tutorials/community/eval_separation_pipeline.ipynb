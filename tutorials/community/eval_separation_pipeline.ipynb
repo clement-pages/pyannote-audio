{
  "cells": [
    {
      "cell_type": "markdown",
      "metadata": {
        "id": "FH-jF23ogFiH"
      },
      "source": [
        "<a href=\"https://colab.research.google.com/github/pyannote/pyannote-audio/blob/develop/tutorials/community/eval_separation_pipeline.ipynb\" target=\"_parent\"><img src=\"https://colab.research.google.com/assets/colab-badge.svg\" alt=\"Open In Colab\"/></a>"
      ]
    },
    {
      "cell_type": "markdown",
      "metadata": {
        "id": "gem8uWvYJJBH"
      },
      "source": [
        "# Evaluating `pyannote` pretrained speech separation pipelines\n",
        "\n",
        "> Tutorial contributed by [Clément Pagés](https://github.com/clement-pages/)\n",
        "\n",
        "In this tutorial, we will evaluate `pyannote` pretrained speech separation pipeline.\n",
        "\n",
        "More precisely, we rely on the pretrained `ToTaToNet` separation model and pipeline, on the tasks of speaker diarization and automatic speech recognition (ASR).\n",
        "More details about them are available in [this paper](https://www.isca-archive.org/odyssey_2024/kalda24_odyssey.pdf) which won the best student paper award at [Odyssey 2024](https://www.odyssey2024.org/).\n",
        "\n",
        "```bibtex\n",
        "@inproceedings{kalda24_odyssey,\n",
        "  title     = {PixIT: Joint Training of Speaker Diarization and Speech Separation from Real-world Multi-speaker Recordings},\n",
        "  author    = {Joonas Kalda and Clément Pagés and Ricard Marxer and Tanel Alumäe and Hervé Bredin},\n",
        "  year      = {2024},\n",
        "  booktitle = {The Speaker and Language Recognition Workshop (Odyssey 2024)},\n",
        "  pages     = {115--122},\n",
        "  doi       = {10.21437/odyssey.2024-17},\n",
        "}\n",
        "```"
      ]
    },
    {
      "cell_type": "markdown",
      "metadata": {
        "id": "Qr02VgSaJgHv"
      },
      "source": [
        "## Tutorial setup\n",
        "\n",
        "### Google Colab Setup\n",
        "\n",
        "If you are running this tutorial on Colab, execute the following commands in order to setup the environment.\n",
        "These commands will install `pyannote.audio`, and other required dependencies."
      ]
    },
    {
      "cell_type": "code",
      "execution_count": null,
      "metadata": {
        "collapsed": true,
        "id": "bUQOHa_rJEQc"
      },
      "outputs": [],
      "source": [
        "!pip install -qq speechbrain==0.5.16\n",
        "!pip install -qq ipython==7.34.0\n",
        "!pip install -qq ipywidgets openai-whisper whisperx==3.1.5 meeteval\n",
        "!pip install -qq pyannote.audio[separation]==3.3.0"
      ]
    },
    {
      "cell_type": "markdown",
      "metadata": {
        "id": "fWr_lB51Qk2P"
      },
      "source": [
        "⚠ Make sure that you switch to a GPU runtime (Runtime > Change runtime type) then restart the runtime (Runtime > Restart session).\n",
        "Otherwise, everything will be extremely slow."
      ]
    },
    {
      "cell_type": "markdown",
      "metadata": {
        "id": "1A7a2prlSyt2"
      },
      "source": [
        "### Non Google Colab setup\n",
        "\n",
        "If you are not using Colab, this tutorial assumes that the following dependencies have been installed:\n",
        "  - `pyannote.audio[separation]` for joint speech diarization and separation (as well as the evaluation of speaker diarization)\n",
        "  - `openai-whisper` and `whisperx` for speech transcription\n",
        "  - `meeteval` for the evaluation of speech transcription\n"
      ]
    },
    {
      "cell_type": "markdown",
      "metadata": {
        "id": "yBdGZ_GpHTPX"
      },
      "source": [
        "### General setup (whatever the environment)\n",
        "\n",
        "Update `ROOT_DIR` to the path where you want to download assets used in this tutorial."
      ]
    },
    {
      "cell_type": "code",
      "execution_count": 2,
      "metadata": {
        "id": "BVfQIlXmcuOG"
      },
      "outputs": [],
      "source": [
        "import os\n",
        "\n",
        "# update ROOT_DIR according to your setup\n",
        "ROOT_DIR = \"path/to/pyannote-audio\"\n",
        "ROOT_DIR = \"/Users/hbredin/Development/pyannote/pyannote-audio\"\n",
        "os.environ[\"ASSET_DIR\"] = ROOT_DIR + \"/tutorials/assets/separation\""
      ]
    },
    {
      "cell_type": "code",
      "execution_count": 3,
      "metadata": {
        "id": "Vimpdx0Rm-tm"
      },
      "outputs": [],
      "source": [
        "# create ASSET_DIR repertory\n",
        "!mkdir -p ${ASSET_DIR}/sources\n",
        "\n",
        "# Download audio files from AMI-SDM dataset used in this tutorial\n",
        "!wget --continue -q -O ${ASSET_DIR}/mixture.wav https://groups.inf.ed.ac.uk/ami/AMICorpusMirror//amicorpus/ES2004a/audio/ES2004a.Mix-Headset.wav\n",
        "!wget --continue -q -O  ${ASSET_DIR}/sources/source0.wav https://groups.inf.ed.ac.uk/ami/AMICorpusMirror//amicorpus/ES2004a/audio/ES2004a.Headset-0.wav\n",
        "!wget --continue -q -O  ${ASSET_DIR}/sources/source1.wav https://groups.inf.ed.ac.uk/ami/AMICorpusMirror//amicorpus/ES2004a/audio/ES2004a.Headset-1.wav\n",
        "!wget --continue -q -O  ${ASSET_DIR}/sources/source2.wav https://groups.inf.ed.ac.uk/ami/AMICorpusMirror//amicorpus/ES2004a/audio/ES2004a.Headset-2.wav\n",
        "!wget --continue -q -O  ${ASSET_DIR}/sources/source3.wav https://groups.inf.ed.ac.uk/ami/AMICorpusMirror//amicorpus/ES2004a/audio/ES2004a.Headset-3.wav\n",
        "\n",
        "# Download rttm file\n",
        "!wget --continue -q -O ${ASSET_DIR}/mixture.rttm https://raw.githubusercontent.com/pyannote/AMI-diarization-setup/main/only_words/rttms/test/ES2004a.rttm"
      ]
    },
    {
      "cell_type": "markdown",
      "metadata": {
        "id": "BIfT-DwoIFjw"
      },
      "source": [
        "In the following parts, we will work on a one-minute long chunk excerpt from a meeting involving 4 speakers."
      ]
    },
    {
      "cell_type": "code",
      "execution_count": 4,
      "metadata": {
        "id": "KyRhUEY_wJ79"
      },
      "outputs": [],
      "source": [
        "# set visualization scope to this specific one-minute segment\n",
        "from pyannote.core import notebook, Segment\n",
        "segment = Segment(750, 810)\n",
        "notebook.crop = segment"
      ]
    },
    {
      "cell_type": "markdown",
      "metadata": {
        "id": "aWSJqd7CToji"
      },
      "source": [
        "## Speaker diarization\n",
        "\n",
        "First, we are going to evaluate the joint diarization/separation pipeline in terms of diarization performance by computing the [Diarization Error Rate](https://pyannote.github.io/pyannote-metrics/reference.html?highlight=diarization%20error%20rate#diarization) (DER) on the audio mixture.\n",
        "\n",
        "We will rely on the implementation of this metric available inn [`pyannote.metrics`](https://github.com/pyannote/pyannote-metrics).\n",
        "\n",
        "Let's load the example mixture and its corresponding reference (manual) annotation."
      ]
    },
    {
      "cell_type": "code",
      "execution_count": null,
      "metadata": {
        "id": "_w_HvNWQkOUx"
      },
      "outputs": [],
      "source": [
        "from pyannote.database.util import load_rttm\n",
        "from pyannote.audio.core.io import Audio\n",
        "\n",
        "audio = Audio()\n",
        "\n",
        "uri = \"ES2004a\" # original file name\n",
        "file = os.environ[\"ASSET_DIR\"] + \"/mixture.wav\"\n",
        "mixture, sample_rate = audio.crop(file=file, segment=segment)\n",
        "\n",
        "annotations = load_rttm(os.environ[\"ASSET_DIR\"] + \"/mixture.rttm\")[uri]\n",
        "annotations = annotations.crop(segment)"
      ]
    },
    {
      "cell_type": "markdown",
      "metadata": {
        "id": "SEFkR3QmGVWN"
      },
      "source": [
        "Let's take a look at the annotations, and listen the audio corresponding to the chunk."
      ]
    },
    {
      "cell_type": "code",
      "execution_count": 6,
      "metadata": {
        "colab": {
          "base_uri": "https://localhost:8080/",
          "height": 259
        },
        "id": "3wAe634dhkmX",
        "outputId": "b9631654-6450-4baf-a233-6bff89f91a53"
      },
      "outputs": [
        {
          "output_type": "execute_result",
          "data": {
            "text/plain": [
              "<pyannote.core.annotation.Annotation at 0x7f00320f2c50>"
            ],
            "image/png": "[encoded data removed]"
          },
          "metadata": {},
          "execution_count": 6
        }
      ],
      "source": [
        "annotations"
      ]
    },
    {
      "cell_type": "code",
      "execution_count": null,
      "metadata": {
        "id": "jD0rh02OtDOW"
      },
      "outputs": [],
      "source": [
        "from pyannote.audio.utils.preview import listen\n",
        "listen(audio_file=file, segment=segment)"
      ]
    },
    {
      "cell_type": "markdown",
      "metadata": {
        "id": "bQ1DVOs_IGyV"
      },
      "source": [
        "Now that we have loaded the mixture and the corresponding annotations, we load the pretrained joint diarization/separation pipeline.\n",
        "\n",
        "Official [pyannote.audio](https://github.com/pyannote/pyannote-audio) pipelines (i.e. those under the [`pyannote` organization](https://huggingface.co/pyannote) umbrella) are open-source, but gated. It means that you have to first accept users conditions on their respective Huggingface page to access the pretrained weights and hyper-parameters. Despite this initial process, those pipelines can perfectly be downloaded for later offline use: see the end of [this tutorial](https://github.com/pyannote/pyannote-audio/blob/develop/tutorials/applying_a_pipeline.ipynb) to learn how to do that.\n",
        "\n",
        "To load the pipeline used in this tutorial, you have to visit [hf.co/pyannote/speech-separation-ami-1.0](https://huggingface.co/pyannote/speech-separation-ami-1.0), accept the terms, visit [hf.co/pyannote/separation-ami-1.0](https://huggingface.co/pyannote/separation-ami-1.0) (used internally by the pipeline), and accept the terms. Then, if you have not already done so, create a Huggingface token by going [here](https://huggingface.co/settings/tokens), and log in using `notebook_login` below:"
      ]
    },
    {
      "cell_type": "code",
      "execution_count": null,
      "metadata": {
        "id": "x5bXJ4TggFie"
      },
      "outputs": [],
      "source": [
        "from huggingface_hub import notebook_login\n",
        "notebook_login()"
      ]
    },
    {
      "cell_type": "code",
      "execution_count": null,
      "metadata": {
        "id": "nm5mF_h9JhPF"
      },
      "outputs": [],
      "source": [
        "from pyannote.audio import Pipeline\n",
        "pipeline = Pipeline.from_pretrained(\n",
        "    \"pyannote/speech-separation-ami-1.0\", use_auth_token=True)\n",
        "\n",
        "# you can safely ignore that various warnings below."
      ]
    },
    {
      "cell_type": "markdown",
      "metadata": {
        "id": "S0ylCA80HsPj"
      },
      "source": [
        "In this tutorial, we use the set of hyper-parameters optimized for the diarization task."
      ]
    },
    {
      "cell_type": "code",
      "execution_count": null,
      "metadata": {
        "id": "MFii5_l1bJ9Q"
      },
      "outputs": [],
      "source": [
        "pipeline.instantiate(\n",
        "    {\n",
        "        \"segmentation\": {\n",
        "            \"min_duration_off\": 0.0,\n",
        "            \"threshold\": 0.5,\n",
        "        },\n",
        "        \"clustering\": {\n",
        "            \"method\": \"centroid\",\n",
        "            \"threshold\": 0.68,\n",
        "            \"min_cluster_size\": 60,\n",
        "        },\n",
        "        \"separation\": {\n",
        "            \"leakage_removal\": True,\n",
        "            \"asr_collar\": 0.0,\n",
        "        }\n",
        "    }\n",
        ")"
      ]
    },
    {
      "cell_type": "markdown",
      "metadata": {
        "id": "ApMiPqxKe9vh"
      },
      "source": [
        "In order to speed up processing, run the pipeline on a GPU device, if available."
      ]
    },
    {
      "cell_type": "code",
      "execution_count": null,
      "metadata": {
        "collapsed": true,
        "id": "B5g73NgvfK7W"
      },
      "outputs": [],
      "source": [
        "import torch\n",
        "device = torch.device(\"cuda\" if torch.cuda.is_available() else \"cpu\")\n",
        "pipeline.to(device=device)"
      ]
    },
    {
      "cell_type": "markdown",
      "metadata": {
        "id": "yOTIUETlbVOe"
      },
      "source": [
        "The next step consists in applying the pipeline to get diarization prediction, and compare them to the annotation by computing DER."
      ]
    },
    {
      "cell_type": "code",
      "execution_count": null,
      "metadata": {
        "id": "2R_YkNujbU-l"
      },
      "outputs": [],
      "source": [
        "from pyannote.metrics.diarization import DiarizationErrorRate\n",
        "from pyannote.audio.pipelines.utils.hook import ProgressHook\n",
        "\n",
        "metric = DiarizationErrorRate()\n",
        "\n",
        "# we use a ProgressHook, which will print progress for each step in the pipeline\n",
        "with ProgressHook() as hook:\n",
        "  # apply pipeline on the mixture file and get diarization prediction\n",
        "  diarization, sources_hat = pipeline({\"waveform\": mixture, \"sample_rate\": sample_rate}, hook=hook)"
      ]
    },
    {
      "cell_type": "markdown",
      "metadata": {
        "id": "p-7xuESbDSKo"
      },
      "source": [
        "Remember that we focused on the 1 minute sample starting at `t=750s`? The pipeline does not know about that so we need to shift the segments by that many seconds."
      ]
    },
    {
      "cell_type": "code",
      "execution_count": 13,
      "metadata": {
        "id": "ybBPwZSGhWkC"
      },
      "outputs": [],
      "source": [
        "from pyannote.core import Annotation\n",
        "\n",
        "shifted_diarization = Annotation(uri=uri)\n",
        "\n",
        "for seg, track, label in diarization.itertracks(yield_label=True):\n",
        "  shifted_segment = Segment(seg.start + 750., seg.end + 750.)\n",
        "  shifted_diarization[shifted_segment, track] = label\n"
      ]
    },
    {
      "cell_type": "markdown",
      "metadata": {
        "id": "CFYD6cnALXLO"
      },
      "source": [
        "We can then display the predicted speaker diarization:"
      ]
    },
    {
      "cell_type": "code",
      "execution_count": 14,
      "metadata": {
        "colab": {
          "base_uri": "https://localhost:8080/",
          "height": 259
        },
        "id": "fMgDuvzN9W1z",
        "outputId": "a59e54da-77c6-4aa7-8301-84d0aa6bcd0a"
      },
      "outputs": [
        {
          "output_type": "execute_result",
          "data": {
            "text/plain": [
              "<pyannote.core.annotation.Annotation at 0x7f001c350a00>"
            ],
            "image/png": "[encoded data removed]"
          },
          "metadata": {},
          "execution_count": 14
        }
      ],
      "source": [
        "shifted_diarization"
      ]
    },
    {
      "cell_type": "markdown",
      "metadata": {
        "id": "utIc_ybRL3I_"
      },
      "source": [
        "Finally, compute the DER and its components:"
      ]
    },
    {
      "cell_type": "code",
      "execution_count": 15,
      "metadata": {
        "colab": {
          "base_uri": "https://localhost:8080/"
        },
        "id": "J9AaI0oxMBrz",
        "outputId": "90edd365-c208-4bb8-c60e-86ce0b0eb6ac"
      },
      "outputs": [
        {
          "output_type": "stream",
          "name": "stderr",
          "text": [
            "WARNING:py.warnings:/usr/local/lib/python3.10/dist-packages/pyannote/metrics/utils.py:200: UserWarning: 'uem' was approximated by the union of 'reference' and 'hypothesis' extents.\n",
            "  warnings.warn(\n",
            "\n"
          ]
        },
        {
          "output_type": "execute_result",
          "data": {
            "text/plain": [
              "{'missed detection': 2.9160000000003947,\n",
              " 'false alarm': 1.9320000000000164,\n",
              " 'correct': 63.19799999999998,\n",
              " 'confusion': 3.205999999999676,\n",
              " 'total': 69.32000000000005,\n",
              " 'diarization error rate': 0.11618580496249396}"
            ]
          },
          "metadata": {},
          "execution_count": 15
        }
      ],
      "source": [
        "metric(annotations, shifted_diarization, detailed=True)"
      ]
    },
    {
      "cell_type": "markdown",
      "metadata": {
        "id": "h7wu0sh6T2s2"
      },
      "source": [
        "## Speech transcription of the separated source\n"
      ]
    },
    {
      "cell_type": "markdown",
      "metadata": {
        "id": "J9ZG3Y27MOkv"
      },
      "source": [
        "We now switch to the evaluation of the speech separation part through the spectrum of its impact on automatic speech recognition.\n",
        "\n",
        "Here, we apply [Whisper](https://github.com/openai/whisper) pretrained speech-to-text model to each separated source.\n",
        "The final transcription is evaluated by comparison with the reference (manual) transcriptionusing [Concatenated minimum-Permutation Word Error Rate](https://arxiv.org/abs/2004.09249) (cpWER), available in the [MeetEval](https://github.com/fgnt/meeteval) toolkit."
      ]
    },
    {
      "cell_type": "markdown",
      "metadata": {
        "id": "cvSiXpwlOMYX"
      },
      "source": [
        "We start by instantiating the pipeline with hyper-parameters optimized for the speech-to-text task."
      ]
    },
    {
      "cell_type": "code",
      "execution_count": null,
      "metadata": {
        "id": "y-XE8VwhgFit"
      },
      "outputs": [],
      "source": [
        "pipeline.instantiate(\n",
        "    {\n",
        "        \"segmentation\": {\"min_duration_off\": 0.0, \"threshold\": 0.82},\n",
        "        \"clustering\": {\n",
        "            \"method\": \"centroid\",\n",
        "            \"min_cluster_size\": 15,\n",
        "            \"threshold\": 0.68,\n",
        "        },\n",
        "        \"separation\": {\n",
        "            \"leakage_removal\": True,\n",
        "            \"asr_collar\": 0.32,\n",
        "        }\n",
        "    }\n",
        ")"
      ]
    },
    {
      "cell_type": "markdown",
      "metadata": {
        "id": "MZCdoSTLO57A"
      },
      "source": [
        "Reference transcription is loaded and normalized with Whisper built-in normalization function."
      ]
    },
    {
      "cell_type": "code",
      "execution_count": 17,
      "metadata": {
        "id": "jVAXMeDvOpCv"
      },
      "outputs": [],
      "source": [
        "import whisperx\n",
        "from whisper.normalizers import EnglishTextNormalizer\n",
        "\n",
        "normalizer = EnglishTextNormalizer()\n",
        "\n",
        "references = [\n",
        "    \"So simplification of symbols you could think of. Mm-hmm. Menu, alright. Uh uh Right, I was thinking on the same lines you, instead of having too many b buttons and make it complicated for the user, may h maybe have an L_C_D_ di display or something like that, like a mobile, yeah and with menus. And if it's s somewhat similar to what you have on mobile phone, people might find it easier to browse\",\n",
        "    \"button or something like that. Yeah. Um. When they're when you've got the main things on the front of it and a section opens up or something to the other functions where you can do sound or options kind of recording, things like that inside it. 'Cause it doesn't make when you pick it up it doesn't make it really complicated to look at, it's obvious what you're doing, um.\",\n",
        "    \"Mm. Yeah.\",\n",
        "    \". And symbols that you don't necessarily understand, symbols you're meant to understand that you don't. Oh yeah. Mm-hmm. Mm. Mm-hmm. Actually that just raises a point, I wonder what our design people think, but you know on a mobile phone, you can press a key and it gives you a menu, it's got a menu display, I wonder if incorporating that into the design of a remote control might be useful, so you've got a little L_C_D_ display. With menus, yeah, yeah.\",\n",
        "]\n",
        "\n",
        "references_formatted = []\n",
        "for i in range(len(references)):\n",
        "    if references[i] != \"\":\n",
        "        references_formatted.append(normalizer(references[i]))\n",
        "\n",
        "references = references_formatted"
      ]
    },
    {
      "cell_type": "markdown",
      "metadata": {
        "id": "94yALajRPdS7"
      },
      "source": [
        "Apply the pipeline on the mixture to get separated sources."
      ]
    },
    {
      "cell_type": "code",
      "execution_count": null,
      "metadata": {
        "id": "1-fx2mbAPdBX"
      },
      "outputs": [],
      "source": [
        "from pyannote.audio.pipelines.utils.hook import ProgressHook\n",
        "\n",
        "with ProgressHook() as hook:\n",
        "  diarization, sources = pipeline({\"waveform\": mixture, \"sample_rate\": sample_rate}, hook=hook)"
      ]
    },
    {
      "cell_type": "markdown",
      "metadata": {
        "id": "hgkVrUVWEUzX"
      },
      "source": [
        "Listen to one of the separated source:"
      ]
    },
    {
      "cell_type": "code",
      "execution_count": null,
      "metadata": {
        "id": "BSBFlQkCtWTo"
      },
      "outputs": [],
      "source": [
        "from IPython.display import Audio, display\n",
        "\n",
        "source_1 = sources[:, 1]\n",
        "display(Audio(source_1, rate=sample_rate))"
      ]
    },
    {
      "cell_type": "markdown",
      "metadata": {
        "id": "-rDAcP6pPuhw"
      },
      "source": [
        "Get transcription for each predicted source by applying `Whisper`:"
      ]
    },
    {
      "cell_type": "code",
      "execution_count": null,
      "metadata": {
        "id": "zm5IbZDUQDCy"
      },
      "outputs": [],
      "source": [
        "import numpy as np\n",
        "\n",
        "device = \"cuda\" if torch.cuda.is_available() else \"cpu\"\n",
        "compute_type = \"float32\" # \"float16\"\n",
        "modelx = whisperx.load_model(\"small.en\", device=device, compute_type=compute_type)\n",
        "\n",
        "def apply_whisperx(audio, sample_rate=16000):\n",
        "    audio = np.float32(audio / np.max(np.abs(audio)))\n",
        "    result = modelx.transcribe(audio, batch_size=16, language=\"en\")\n",
        "    output = result[\"segments\"]  # after alignment\n",
        "    text = \"\"\n",
        "    for utterance in output:\n",
        "        text = text + \" \" + utterance[\"text\"]\n",
        "    return normalizer(text)\n",
        "\n",
        "predictions = []\n",
        "for i in range(sources.data.shape[1]):\n",
        "    print(f'Processing source #{i+1}...')\n",
        "    text = apply_whisperx(sources.data[:, i])\n",
        "    predictions.append(text)\n",
        "\n",
        "# only consider 10 longest predictions to save computation time\n",
        "predictions = sorted(predictions, key=len, reverse=True)[:10]\n",
        "\n",
        "if len(predictions) < len(references):\n",
        "    predictions = predictions + [\"\"] * (len(references) - len(predictions))\n",
        "\n",
        "# normalize prediction\n",
        "for i in range(len(predictions)):\n",
        "    predictions[i] = normalizer(predictions[i])"
      ]
    },
    {
      "cell_type": "markdown",
      "metadata": {
        "id": "sX2vvWDtQ79S"
      },
      "source": [
        "Finally, compute `cpWER` and display its component.\n",
        "\n",
        "It is necessary to take into account all possible permutations, since the order of sources predicted by the pipeline does not necessarily correspond to the order of sources in the reference."
      ]
    },
    {
      "cell_type": "code",
      "execution_count": 21,
      "metadata": {
        "collapsed": true,
        "id": "w9GTpHtnWagw"
      },
      "outputs": [],
      "source": [
        "from itertools import permutations\n",
        "\n",
        "from meeteval.wer.wer.cp import cp_word_error_rate\n",
        "\n",
        "min_error_rate = 1.0\n",
        "min_cpwer = None\n",
        "\n",
        "all_permutations = list(permutations(predictions, len(references)))\n",
        "\n",
        "# compute cpwer on each permutation and keep the best one\n",
        "for permutation in all_permutations:\n",
        "    cpwer = cp_word_error_rate(references, list(permutation))\n",
        "    if cpwer.error_rate < min_error_rate:\n",
        "        min_error_rate = cpwer.error_rate\n",
        "        min_cpwer = cpwer\n"
      ]
    },
    {
      "cell_type": "code",
      "execution_count": 22,
      "metadata": {
        "colab": {
          "base_uri": "https://localhost:8080/"
        },
        "id": "BwRnxzCHgFiv",
        "outputId": "768b0f29-3494-48dc-b016-da8a7f6f7d32"
      },
      "outputs": [
        {
          "output_type": "stream",
          "name": "stdout",
          "text": [
            "cpWER breakdown\n",
            "Substitution rate: 3.4%\n",
            "Deletion rate: 12.9%\n",
            "Insertion rate: 1.3%\n",
            "Total WER: 17.4%\n"
          ]
        }
      ],
      "source": [
        "C = min_cpwer.length - min_cpwer.errors\n",
        "S = min_cpwer.substitutions\n",
        "D = min_cpwer.deletions\n",
        "I = min_cpwer.insertions\n",
        "deletion_rate = D / (C + S + D) * 100\n",
        "insertion_rate = I / (C + S + D) * 100\n",
        "substitution_rate = S / (C + S + D) * 100\n",
        "\n",
        "print(\"cpWER breakdown\")\n",
        "print(f\"Substitution rate: {substitution_rate:.1f}%\")\n",
        "print(f\"Deletion rate: {deletion_rate:.1f}%\")\n",
        "print(f\"Insertion rate: {insertion_rate:.1f}%\")\n",
        "print(f\"Total WER: {min_cpwer.error_rate * 100:.1f}%\")"
      ]
    },
    {
      "cell_type": "markdown",
      "metadata": {
        "id": "_tuHpaYsSUz3"
      },
      "source": [
        "Great! We managed to evaluate the joint diarization/separation pipeline for both diarization and subsequent transcription tasks!"
      ]
    },
    {
      "cell_type": "markdown",
      "metadata": {
        "id": "mCOjOUneTsBI"
      },
      "source": [
        "## Bonus: speaker separation\n",
        "\n",
        "Here, we evaluate the joint model `ToTaToNet` in terms of separation capacities (applied on the first 5 seconds of the mixture).  \n",
        "This model provides both diarization and separated sources.   \n",
        "We rely on  [`asteroid`](https://github.com/asteroid-team/asteroid) for evaluation -- a generic audio source separation toolkit providing a bunch of metrics for this task.\n",
        "\n",
        "We start by loading the clean sources used to generate the mixture (`mixture = source1 + ... + source4`)."
      ]
    },
    {
      "cell_type": "code",
      "execution_count": null,
      "metadata": {
        "colab": {
          "base_uri": "https://localhost:8080/"
        },
        "id": "N-Z9BimrjICK",
        "outputId": "382c009a-7a60-4ca9-e10f-ed7831982b16"
      },
      "outputs": [
        {
          "output_type": "execute_result",
          "data": {
            "text/plain": [
              "(3, 80000)"
            ]
          },
          "metadata": {},
          "execution_count": 23
        }
      ],
      "source": [
        "import numpy as np\n",
        "\n",
        "chunk = Segment(0, 5)\n",
        "sources = []\n",
        "for i in range(3):\n",
        "  file = os.environ[\"ASSET_DIR\"] + f\"/sources/source{i}.wav\"\n",
        "  source, _ = audio.crop(file=file, segment=chunk, duration=5.)\n",
        "  sources.append(source.squeeze(0).numpy())\n",
        "sources = np.array(sources)\n",
        "\n",
        "sources.shape # (num_speakers, num_samples)"
      ]
    },
    {
      "cell_type": "markdown",
      "metadata": {
        "id": "QF6krOLwgFip"
      },
      "source": [
        "We apply `ToTaToNet` on the 5 seconds chunk and retrieve both diarization and separated sources."
      ]
    },
    {
      "cell_type": "code",
      "execution_count": null,
      "metadata": {
        "id": "OC5S0zqzgFiq"
      },
      "outputs": [],
      "source": [
        "from pyannote.audio.core.model import Model\n",
        "\n",
        "# apply totatonet on the first five seconds\n",
        "totatonet = Model.from_pretrained(\"pyannote/separation-ami-1.0\", use_auth_token=True)\n",
        "totatonet.to(device)\n",
        "\n",
        "cropped_mixture = mixture[:, :sample_rate * 5].unsqueeze(0)\n",
        "diarization, sources_hat = totatonet(cropped_mixture.to(device))\n",
        "\n",
        "sources_hat.shape # (batch_size, num_samples, num_sources)"
      ]
    },
    {
      "cell_type": "markdown",
      "metadata": {
        "id": "RXDLy0wlgFir"
      },
      "source": [
        "Sources produced by the model can be in any order. Therefore, we compute the separation metrics on all possible permutations, and retain the permutation giving the best performance (here in terms of SI-SDR, but this could be any other metric proposed by `asteroid`)."
      ]
    },
    {
      "cell_type": "code",
      "execution_count": null,
      "metadata": {
        "id": "FAdYKxMWgFis"
      },
      "outputs": [],
      "source": [
        "# get all possible permutations\n",
        "sources_hat = sources_hat.squeeze(0).cpu().detach().numpy()\n",
        "sources_hat = sources_hat.T\n",
        "\n",
        "all_permutations = list(permutations(sources_hat, 3))"
      ]
    },
    {
      "cell_type": "code",
      "execution_count": null,
      "metadata": {
        "id": "e5_LRNN6gFis",
        "colab": {
          "base_uri": "https://localhost:8080/"
        },
        "outputId": "d2ab03a0-0493-40a1-fbe0-f850b3db28dd"
      },
      "outputs": [
        {
          "output_type": "execute_result",
          "data": {
            "text/plain": [
              "{'input_si_sdr': -65.86242802937825,\n",
              " 'input_sdr': -28.623883950224783,\n",
              " 'input_sir': -4.125154507996655,\n",
              " 'input_sar': -22.447442779085936,\n",
              " 'input_stoi': -0.03292179880781989,\n",
              " 'input_pesq': 1.0474077065785725,\n",
              " 'si_sdr': -45.33342997233073,\n",
              " 'sdr': -23.06402279776748,\n",
              " 'sir': 2.0923609585372533,\n",
              " 'sar': -20.51731126119207,\n",
              " 'stoi': -0.03345884231432133,\n",
              " 'pesq': 1.0672541459401448}"
            ]
          },
          "metadata": {},
          "execution_count": 26
        }
      ],
      "source": [
        "# compute metrics on each permutation, and keep the best permutation in terms of SI-SDR\n",
        "\n",
        "from asteroid.metrics import get_metrics\n",
        "import numpy as np\n",
        "\n",
        "\n",
        "best_si_sdr = -1000\n",
        "metrics_dict = {}\n",
        "cropped_mixture = cropped_mixture.squeeze().cpu().numpy()\n",
        "\n",
        "for permutation in all_permutations:\n",
        "    metrics = get_metrics(\n",
        "        metrics_list=\"all\",\n",
        "        mix=cropped_mixture,\n",
        "        clean=sources,\n",
        "        estimate=np.array(permutation)\n",
        "    )\n",
        "    si_sdr = metrics[\"si_sdr\"]\n",
        "    if si_sdr > best_si_sdr:\n",
        "        best_si_sdr = si_sdr\n",
        "        metrics_dict = metrics\n",
        "\n",
        "metrics_dict"
      ]
    },
    {
      "cell_type": "code",
      "execution_count": null,
      "metadata": {
        "colab": {
          "base_uri": "https://localhost:8080/"
        },
        "id": "c6Es0xiISFsc",
        "outputId": "94ec9628-df2e-44aa-e2ff-8867e1e6cd42"
      },
      "outputs": [
        {
          "output_type": "stream",
          "name": "stdout",
          "text": [
            "SI SDR improvement =  20.528998057047524 dB\n"
          ]
        }
      ],
      "source": [
        "print(\"SI SDR improvement = \", metrics_dict[\"si_sdr\"] - metrics_dict[\"input_si_sdr\"], \"dB\")"
      ]
    }
  ],
  "metadata": {
    "accelerator": "GPU",
    "colab": {
      "gpuType": "T4",
      "provenance": []
    },
    "kernelspec": {
      "display_name": "Python 3",
      "name": "python3"
    },
    "language_info": {
      "codemirror_mode": {
        "name": "ipython",
        "version": 3
      },
      "file_extension": ".py",
      "mimetype": "text/x-python",
      "name": "python",
      "nbconvert_exporter": "python",
      "pygments_lexer": "ipython3",
      "version": "3.10.0"
    }
  },
  "nbformat": 4,
  "nbformat_minor": 0
}
